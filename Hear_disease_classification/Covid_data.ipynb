{
 "cells": [
  {
   "cell_type": "code",
   "execution_count": 35,
   "metadata": {},
   "outputs": [],
   "source": [
    "import pandas as pd\n",
    "import numpy as np\n",
    "import matplotlib.pyplot as plt\n",
    "import seaborn as sns\n",
    "import warnings\n",
    "warnings.filterwarnings(\"ignore\")"
   ]
  },
  {
   "cell_type": "code",
   "execution_count": 36,
   "metadata": {},
   "outputs": [
    {
     "data": {
      "text/html": [
       "<div>\n",
       "<style scoped>\n",
       "    .dataframe tbody tr th:only-of-type {\n",
       "        vertical-align: middle;\n",
       "    }\n",
       "\n",
       "    .dataframe tbody tr th {\n",
       "        vertical-align: top;\n",
       "    }\n",
       "\n",
       "    .dataframe thead th {\n",
       "        text-align: right;\n",
       "    }\n",
       "</style>\n",
       "<table border=\"1\" class=\"dataframe\">\n",
       "  <thead>\n",
       "    <tr style=\"text-align: right;\">\n",
       "      <th></th>\n",
       "      <th>location</th>\n",
       "      <th>continent</th>\n",
       "      <th>date</th>\n",
       "      <th>iso_code</th>\n",
       "      <th>tests_units</th>\n",
       "      <th>aged_65_older</th>\n",
       "      <th>aged_70_older</th>\n",
       "      <th>cardiovasc_death_rate</th>\n",
       "      <th>Deathp100K</th>\n",
       "      <th>diabetes_prevalence</th>\n",
       "      <th>...</th>\n",
       "      <th>positive_rate</th>\n",
       "      <th>stringency_index</th>\n",
       "      <th>tests_per_case</th>\n",
       "      <th>total_cases</th>\n",
       "      <th>total_cases_per_million</th>\n",
       "      <th>total_deaths</th>\n",
       "      <th>total_deaths_per_million</th>\n",
       "      <th>total_tests</th>\n",
       "      <th>total_tests_per_thousand</th>\n",
       "      <th>Waterfall</th>\n",
       "    </tr>\n",
       "  </thead>\n",
       "  <tbody>\n",
       "    <tr>\n",
       "      <th>0</th>\n",
       "      <td>South Africa</td>\n",
       "      <td>Africa</td>\n",
       "      <td>06/08/2020 12:00:00 AM</td>\n",
       "      <td>ZAF</td>\n",
       "      <td>NaN</td>\n",
       "      <td>5.344</td>\n",
       "      <td>3.053</td>\n",
       "      <td>200.380</td>\n",
       "      <td>15.677298</td>\n",
       "      <td>5.52</td>\n",
       "      <td>...</td>\n",
       "      <td>NaN</td>\n",
       "      <td>NaN</td>\n",
       "      <td>NaN</td>\n",
       "      <td>529877.0</td>\n",
       "      <td>8934.222</td>\n",
       "      <td>9298.0</td>\n",
       "      <td>156.773</td>\n",
       "      <td>NaN</td>\n",
       "      <td>NaN</td>\n",
       "      <td>-9298.0</td>\n",
       "    </tr>\n",
       "    <tr>\n",
       "      <th>1</th>\n",
       "      <td>South Africa</td>\n",
       "      <td>Africa</td>\n",
       "      <td>07/08/2020 12:00:00 AM</td>\n",
       "      <td>ZAF</td>\n",
       "      <td>NaN</td>\n",
       "      <td>5.344</td>\n",
       "      <td>3.053</td>\n",
       "      <td>200.380</td>\n",
       "      <td>16.193243</td>\n",
       "      <td>5.52</td>\n",
       "      <td>...</td>\n",
       "      <td>NaN</td>\n",
       "      <td>NaN</td>\n",
       "      <td>NaN</td>\n",
       "      <td>538184.0</td>\n",
       "      <td>9074.286</td>\n",
       "      <td>9604.0</td>\n",
       "      <td>161.932</td>\n",
       "      <td>NaN</td>\n",
       "      <td>NaN</td>\n",
       "      <td>-9604.0</td>\n",
       "    </tr>\n",
       "    <tr>\n",
       "      <th>2</th>\n",
       "      <td>Iran</td>\n",
       "      <td>Asia</td>\n",
       "      <td>31/12/2019 12:00:00 AM</td>\n",
       "      <td>IRN</td>\n",
       "      <td>NaN</td>\n",
       "      <td>5.440</td>\n",
       "      <td>3.182</td>\n",
       "      <td>270.308</td>\n",
       "      <td>0.000000</td>\n",
       "      <td>9.59</td>\n",
       "      <td>...</td>\n",
       "      <td>NaN</td>\n",
       "      <td>NaN</td>\n",
       "      <td>NaN</td>\n",
       "      <td>0.0</td>\n",
       "      <td>0.000</td>\n",
       "      <td>0.0</td>\n",
       "      <td>0.000</td>\n",
       "      <td>NaN</td>\n",
       "      <td>NaN</td>\n",
       "      <td>0.0</td>\n",
       "    </tr>\n",
       "    <tr>\n",
       "      <th>3</th>\n",
       "      <td>Iran</td>\n",
       "      <td>Asia</td>\n",
       "      <td>06/08/2020 12:00:00 AM</td>\n",
       "      <td>IRN</td>\n",
       "      <td>NaN</td>\n",
       "      <td>5.440</td>\n",
       "      <td>3.182</td>\n",
       "      <td>270.308</td>\n",
       "      <td>21.194635</td>\n",
       "      <td>9.59</td>\n",
       "      <td>...</td>\n",
       "      <td>NaN</td>\n",
       "      <td>NaN</td>\n",
       "      <td>NaN</td>\n",
       "      <td>317483.0</td>\n",
       "      <td>3779.877</td>\n",
       "      <td>17802.0</td>\n",
       "      <td>211.946</td>\n",
       "      <td>NaN</td>\n",
       "      <td>NaN</td>\n",
       "      <td>-17802.0</td>\n",
       "    </tr>\n",
       "    <tr>\n",
       "      <th>4</th>\n",
       "      <td>Iran</td>\n",
       "      <td>Asia</td>\n",
       "      <td>07/08/2020 12:00:00 AM</td>\n",
       "      <td>IRN</td>\n",
       "      <td>NaN</td>\n",
       "      <td>5.440</td>\n",
       "      <td>3.182</td>\n",
       "      <td>270.308</td>\n",
       "      <td>21.211303</td>\n",
       "      <td>9.59</td>\n",
       "      <td>...</td>\n",
       "      <td>NaN</td>\n",
       "      <td>NaN</td>\n",
       "      <td>NaN</td>\n",
       "      <td>320117.0</td>\n",
       "      <td>3811.236</td>\n",
       "      <td>17816.0</td>\n",
       "      <td>212.113</td>\n",
       "      <td>NaN</td>\n",
       "      <td>NaN</td>\n",
       "      <td>-17816.0</td>\n",
       "    </tr>\n",
       "  </tbody>\n",
       "</table>\n",
       "<p>5 rows × 40 columns</p>\n",
       "</div>"
      ],
      "text/plain": [
       "       location continent                    date iso_code tests_units  \\\n",
       "0  South Africa    Africa  06/08/2020 12:00:00 AM      ZAF         NaN   \n",
       "1  South Africa    Africa  07/08/2020 12:00:00 AM      ZAF         NaN   \n",
       "2          Iran      Asia  31/12/2019 12:00:00 AM      IRN         NaN   \n",
       "3          Iran      Asia  06/08/2020 12:00:00 AM      IRN         NaN   \n",
       "4          Iran      Asia  07/08/2020 12:00:00 AM      IRN         NaN   \n",
       "\n",
       "   aged_65_older  aged_70_older  cardiovasc_death_rate  Deathp100K  \\\n",
       "0          5.344          3.053                200.380   15.677298   \n",
       "1          5.344          3.053                200.380   16.193243   \n",
       "2          5.440          3.182                270.308    0.000000   \n",
       "3          5.440          3.182                270.308   21.194635   \n",
       "4          5.440          3.182                270.308   21.211303   \n",
       "\n",
       "   diabetes_prevalence  ...  positive_rate  stringency_index  tests_per_case  \\\n",
       "0                 5.52  ...            NaN               NaN             NaN   \n",
       "1                 5.52  ...            NaN               NaN             NaN   \n",
       "2                 9.59  ...            NaN               NaN             NaN   \n",
       "3                 9.59  ...            NaN               NaN             NaN   \n",
       "4                 9.59  ...            NaN               NaN             NaN   \n",
       "\n",
       "   total_cases  total_cases_per_million  total_deaths  \\\n",
       "0     529877.0                 8934.222        9298.0   \n",
       "1     538184.0                 9074.286        9604.0   \n",
       "2          0.0                    0.000           0.0   \n",
       "3     317483.0                 3779.877       17802.0   \n",
       "4     320117.0                 3811.236       17816.0   \n",
       "\n",
       "   total_deaths_per_million  total_tests  total_tests_per_thousand  Waterfall  \n",
       "0                   156.773          NaN                       NaN    -9298.0  \n",
       "1                   161.932          NaN                       NaN    -9604.0  \n",
       "2                     0.000          NaN                       NaN        0.0  \n",
       "3                   211.946          NaN                       NaN   -17802.0  \n",
       "4                   212.113          NaN                       NaN   -17816.0  \n",
       "\n",
       "[5 rows x 40 columns]"
      ]
     },
     "execution_count": 36,
     "metadata": {},
     "output_type": "execute_result"
    }
   ],
   "source": [
    "df = pd.read_csv(\"C:\\\\Users\\\\jeeva\\\\Downloads\\\\Covid_data.csv\")\n",
    "df.head()"
   ]
  },
  {
   "cell_type": "code",
   "execution_count": 37,
   "metadata": {},
   "outputs": [
    {
     "data": {
      "text/plain": [
       "location                              0\n",
       "continent                             0\n",
       "date                                  0\n",
       "iso_code                              0\n",
       "tests_units                         537\n",
       "aged_65_older                         0\n",
       "aged_70_older                         0\n",
       "cardiovasc_death_rate                 0\n",
       "Deathp100K                           48\n",
       "diabetes_prevalence                   0\n",
       "extreme_poverty                       0\n",
       "female_smokers                        0\n",
       "gdp_per_capita                        0\n",
       "handwashing_facilities             1197\n",
       "hospital_beds_per_thousand            0\n",
       "life_expectancy                       0\n",
       "male_smokers                        157\n",
       "median_age                            0\n",
       "Mortality Rate                      299\n",
       "new_cases                            48\n",
       "new_cases_per_million                48\n",
       "new_deaths                           48\n",
       "new_deaths_per_million               48\n",
       "new_tests                           719\n",
       "new_tests_per_thousand              719\n",
       "new_tests_smoothed                  615\n",
       "new_tests_smoothed_per_thousand     615\n",
       "Number of Records                     0\n",
       "population                            0\n",
       "population_density                    0\n",
       "positive_rate                       809\n",
       "stringency_index                     59\n",
       "tests_per_case                      861\n",
       "total_cases                          48\n",
       "total_cases_per_million              48\n",
       "total_deaths                         48\n",
       "total_deaths_per_million             48\n",
       "total_tests                         650\n",
       "total_tests_per_thousand            650\n",
       "Waterfall                            48\n",
       "dtype: int64"
      ]
     },
     "execution_count": 37,
     "metadata": {},
     "output_type": "execute_result"
    }
   ],
   "source": [
    "df.isnull().sum()"
   ]
  },
  {
   "cell_type": "code",
   "execution_count": 38,
   "metadata": {},
   "outputs": [
    {
     "name": "stdout",
     "output_type": "stream",
     "text": [
      "<class 'pandas.core.frame.DataFrame'>\n",
      "RangeIndex: 1977 entries, 0 to 1976\n",
      "Data columns (total 40 columns):\n",
      " #   Column                           Non-Null Count  Dtype  \n",
      "---  ------                           --------------  -----  \n",
      " 0   location                         1977 non-null   object \n",
      " 1   continent                        1977 non-null   object \n",
      " 2   date                             1977 non-null   object \n",
      " 3   iso_code                         1977 non-null   object \n",
      " 4   tests_units                      1440 non-null   object \n",
      " 5   aged_65_older                    1977 non-null   float64\n",
      " 6   aged_70_older                    1977 non-null   float64\n",
      " 7   cardiovasc_death_rate            1977 non-null   float64\n",
      " 8   Deathp100K                       1929 non-null   float64\n",
      " 9   diabetes_prevalence              1977 non-null   float64\n",
      " 10  extreme_poverty                  1977 non-null   float64\n",
      " 11  female_smokers                   1977 non-null   float64\n",
      " 12  gdp_per_capita                   1977 non-null   float64\n",
      " 13  handwashing_facilities           780 non-null    float64\n",
      " 14  hospital_beds_per_thousand       1977 non-null   float64\n",
      " 15  life_expectancy                  1977 non-null   float64\n",
      " 16  male_smokers                     1820 non-null   float64\n",
      " 17  median_age                       1977 non-null   float64\n",
      " 18  Mortality Rate                   1678 non-null   float64\n",
      " 19  new_cases                        1929 non-null   float64\n",
      " 20  new_cases_per_million            1929 non-null   float64\n",
      " 21  new_deaths                       1929 non-null   float64\n",
      " 22  new_deaths_per_million           1929 non-null   float64\n",
      " 23  new_tests                        1258 non-null   float64\n",
      " 24  new_tests_per_thousand           1258 non-null   float64\n",
      " 25  new_tests_smoothed               1362 non-null   float64\n",
      " 26  new_tests_smoothed_per_thousand  1362 non-null   float64\n",
      " 27  Number of Records                1977 non-null   int64  \n",
      " 28  population                       1977 non-null   int64  \n",
      " 29  population_density               1977 non-null   float64\n",
      " 30  positive_rate                    1168 non-null   float64\n",
      " 31  stringency_index                 1918 non-null   float64\n",
      " 32  tests_per_case                   1116 non-null   float64\n",
      " 33  total_cases                      1929 non-null   float64\n",
      " 34  total_cases_per_million          1929 non-null   float64\n",
      " 35  total_deaths                     1929 non-null   float64\n",
      " 36  total_deaths_per_million         1929 non-null   float64\n",
      " 37  total_tests                      1327 non-null   float64\n",
      " 38  total_tests_per_thousand         1327 non-null   float64\n",
      " 39  Waterfall                        1929 non-null   float64\n",
      "dtypes: float64(33), int64(2), object(5)\n",
      "memory usage: 617.9+ KB\n"
     ]
    }
   ],
   "source": [
    "df.info()"
   ]
  },
  {
   "cell_type": "code",
   "execution_count": 39,
   "metadata": {},
   "outputs": [
    {
     "data": {
      "text/plain": [
       "(1977, 40)"
      ]
     },
     "execution_count": 39,
     "metadata": {},
     "output_type": "execute_result"
    }
   ],
   "source": [
    "df.shape"
   ]
  },
  {
   "cell_type": "code",
   "execution_count": 40,
   "metadata": {},
   "outputs": [
    {
     "data": {
      "text/plain": [
       "0"
      ]
     },
     "execution_count": 40,
     "metadata": {},
     "output_type": "execute_result"
    }
   ],
   "source": [
    "df.duplicated().sum()"
   ]
  },
  {
   "cell_type": "code",
   "execution_count": 41,
   "metadata": {},
   "outputs": [],
   "source": [
    "df.fillna(0,inplace=True)"
   ]
  },
  {
   "cell_type": "code",
   "execution_count": 42,
   "metadata": {},
   "outputs": [
    {
     "data": {
      "text/plain": [
       "location                           0\n",
       "continent                          0\n",
       "date                               0\n",
       "iso_code                           0\n",
       "tests_units                        0\n",
       "aged_65_older                      0\n",
       "aged_70_older                      0\n",
       "cardiovasc_death_rate              0\n",
       "Deathp100K                         0\n",
       "diabetes_prevalence                0\n",
       "extreme_poverty                    0\n",
       "female_smokers                     0\n",
       "gdp_per_capita                     0\n",
       "handwashing_facilities             0\n",
       "hospital_beds_per_thousand         0\n",
       "life_expectancy                    0\n",
       "male_smokers                       0\n",
       "median_age                         0\n",
       "Mortality Rate                     0\n",
       "new_cases                          0\n",
       "new_cases_per_million              0\n",
       "new_deaths                         0\n",
       "new_deaths_per_million             0\n",
       "new_tests                          0\n",
       "new_tests_per_thousand             0\n",
       "new_tests_smoothed                 0\n",
       "new_tests_smoothed_per_thousand    0\n",
       "Number of Records                  0\n",
       "population                         0\n",
       "population_density                 0\n",
       "positive_rate                      0\n",
       "stringency_index                   0\n",
       "tests_per_case                     0\n",
       "total_cases                        0\n",
       "total_cases_per_million            0\n",
       "total_deaths                       0\n",
       "total_deaths_per_million           0\n",
       "total_tests                        0\n",
       "total_tests_per_thousand           0\n",
       "Waterfall                          0\n",
       "dtype: int64"
      ]
     },
     "execution_count": 42,
     "metadata": {},
     "output_type": "execute_result"
    }
   ],
   "source": [
    "df.isna().sum()"
   ]
  },
  {
   "cell_type": "code",
   "execution_count": 46,
   "metadata": {},
   "outputs": [
    {
     "name": "stdout",
     "output_type": "stream",
     "text": [
      "<class 'pandas.core.frame.DataFrame'>\n",
      "RangeIndex: 1977 entries, 0 to 1976\n",
      "Data columns (total 40 columns):\n",
      " #   Column                           Non-Null Count  Dtype  \n",
      "---  ------                           --------------  -----  \n",
      " 0   location                         1977 non-null   object \n",
      " 1   continent                        1977 non-null   object \n",
      " 2   date                             1977 non-null   object \n",
      " 3   iso_code                         1977 non-null   object \n",
      " 4   tests_units                      1977 non-null   object \n",
      " 5   aged_65_older                    1977 non-null   float64\n",
      " 6   aged_70_older                    1977 non-null   float64\n",
      " 7   cardiovasc_death_rate            1977 non-null   float64\n",
      " 8   Deathp100K                       1977 non-null   float64\n",
      " 9   diabetes_prevalence              1977 non-null   float64\n",
      " 10  extreme_poverty                  1977 non-null   float64\n",
      " 11  female_smokers                   1977 non-null   float64\n",
      " 12  gdp_per_capita                   1977 non-null   float64\n",
      " 13  handwashing_facilities           1977 non-null   float64\n",
      " 14  hospital_beds_per_thousand       1977 non-null   float64\n",
      " 15  life_expectancy                  1977 non-null   float64\n",
      " 16  male_smokers                     1977 non-null   float64\n",
      " 17  median_age                       1977 non-null   float64\n",
      " 18  Mortality Rate                   1977 non-null   float64\n",
      " 19  new_cases                        1977 non-null   float64\n",
      " 20  new_cases_per_million            1977 non-null   float64\n",
      " 21  new_deaths                       1977 non-null   float64\n",
      " 22  new_deaths_per_million           1977 non-null   float64\n",
      " 23  new_tests                        1977 non-null   float64\n",
      " 24  new_tests_per_thousand           1977 non-null   float64\n",
      " 25  new_tests_smoothed               1977 non-null   float64\n",
      " 26  new_tests_smoothed_per_thousand  1977 non-null   float64\n",
      " 27  Number of Records                1977 non-null   int64  \n",
      " 28  population                       1977 non-null   int64  \n",
      " 29  population_density               1977 non-null   float64\n",
      " 30  positive_rate                    1977 non-null   float64\n",
      " 31  stringency_index                 1977 non-null   float64\n",
      " 32  tests_per_case                   1977 non-null   float64\n",
      " 33  total_cases                      1977 non-null   float64\n",
      " 34  total_cases_per_million          1977 non-null   float64\n",
      " 35  total_deaths                     1977 non-null   float64\n",
      " 36  total_deaths_per_million         1977 non-null   float64\n",
      " 37  total_tests                      1977 non-null   float64\n",
      " 38  total_tests_per_thousand         1977 non-null   float64\n",
      " 39  Waterfall                        1977 non-null   float64\n",
      "dtypes: float64(33), int64(2), object(5)\n",
      "memory usage: 617.9+ KB\n"
     ]
    }
   ],
   "source": [
    "df.info()"
   ]
  },
  {
   "cell_type": "code",
   "execution_count": 43,
   "metadata": {},
   "outputs": [],
   "source": [
    "df.to_csv('Covid_data_cleaned.csv', index=False)"
   ]
  },
  {
   "cell_type": "code",
   "execution_count": 44,
   "metadata": {},
   "outputs": [
    {
     "data": {
      "text/plain": [
       "'C:\\\\Users\\\\jeeva'"
      ]
     },
     "execution_count": 44,
     "metadata": {},
     "output_type": "execute_result"
    }
   ],
   "source": [
    "import os\n",
    "os.getcwd()"
   ]
  },
  {
   "cell_type": "code",
   "execution_count": 45,
   "metadata": {},
   "outputs": [],
   "source": [
    "file_path = 'C:\\\\Users\\\\jeeva\\\\Downloads\\\\Covid_data_cleaned.csv'\n",
    "\n",
    "# Save DataFrame to CSV in the specified directory\n",
    "df.to_csv(file_path, index=False)"
   ]
  },
  {
   "cell_type": "code",
   "execution_count": null,
   "metadata": {},
   "outputs": [],
   "source": []
  }
 ],
 "metadata": {
  "kernelspec": {
   "display_name": "Python 3 (ipykernel)",
   "language": "python",
   "name": "python3"
  }
 },
 "nbformat": 4,
 "nbformat_minor": 2
}
